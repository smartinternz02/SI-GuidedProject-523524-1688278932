{
 "cells": [
  {
   "cell_type": "markdown",
   "id": "f1dcd04f-6175-4bea-96e8-362030daa350",
   "metadata": {},
   "source": [
    "# Assignment - 1\n",
    "#### Yelamanchi Jahnavi 20BCE0413\n",
    "## Task - 1\n",
    "### Create a pandas dataframe (DataFrame name as 'df') with numpy random values (4 features and 4 observation)"
   ]
  },
  {
   "cell_type": "code",
   "execution_count": 1,
   "id": "9c8c7092-4f5e-400f-8e1f-610559952f73",
   "metadata": {},
   "outputs": [
    {
     "name": "stdout",
     "output_type": "stream",
     "text": [
      "   Feature 1  Feature 2  Feature 3  Feature 4\n",
      "0   0.374540   0.950714   0.731994   0.598658\n",
      "1   0.156019   0.155995   0.058084   0.866176\n",
      "2   0.601115   0.708073   0.020584   0.969910\n",
      "3   0.832443   0.212339   0.181825   0.183405\n"
     ]
    }
   ],
   "source": [
    "import pandas as pd\n",
    "import numpy as np\n",
    "\n",
    "# Set the seed for reproducibility\n",
    "np.random.seed(42)\n",
    "\n",
    "# Create a 4x4 array of random values\n",
    "random_array = np.random.rand(4, 4)\n",
    "\n",
    "# Create the DataFrame\n",
    "df = pd.DataFrame(random_array, columns=['Feature 1', 'Feature 2', 'Feature 3', 'Feature 4'])\n",
    "\n",
    "# Print the DataFrame\n",
    "print(df)"
   ]
  },
  {
   "cell_type": "markdown",
   "id": "e1c4a8b4-2313-47c5-bd02-e52ff9428f95",
   "metadata": {},
   "source": [
    "## Task - 2\n",
    "### Rename the task - 1 'df' dataframe column names to 'Random value 1', 'Random value 2', 'Random value 3' & 'Random value 4'"
   ]
  },
  {
   "cell_type": "code",
   "execution_count": 3,
   "id": "8a1e0e20-1c04-4b0c-b060-8aaef4cf6d55",
   "metadata": {},
   "outputs": [
    {
     "name": "stdout",
     "output_type": "stream",
     "text": [
      "   Random value 1  Random value 2  Random value 3  Random value 4\n",
      "0        0.374540        0.950714        0.731994        0.598658\n",
      "1        0.156019        0.155995        0.058084        0.866176\n",
      "2        0.601115        0.708073        0.020584        0.969910\n",
      "3        0.832443        0.212339        0.181825        0.183405\n"
     ]
    }
   ],
   "source": [
    "# Rename the column names\n",
    "df = df.rename(columns={'Feature 1': 'Random value 1', 'Feature 2': 'Random value 2',\n",
    "                        'Feature 3': 'Random value 3', 'Feature 4': 'Random value 4'})\n",
    "\n",
    "# Print the DataFrame\n",
    "print(df)"
   ]
  },
  {
   "cell_type": "markdown",
   "id": "c0b584f6-1c85-4121-9c2c-248496f1611f",
   "metadata": {},
   "source": [
    "## Task - 3\n",
    "### Find the descriptive statistics of the 'df' dataframe."
   ]
  },
  {
   "cell_type": "code",
   "execution_count": 4,
   "id": "8cd3fa67-7eec-4699-aaef-add868140859",
   "metadata": {},
   "outputs": [
    {
     "name": "stdout",
     "output_type": "stream",
     "text": [
      "       Random value 1  Random value 2  Random value 3  Random value 4\n",
      "count        4.000000        4.000000        4.000000        4.000000\n",
      "mean         0.491029        0.506780        0.248122        0.654537\n",
      "std          0.291252        0.386153        0.329856        0.350875\n",
      "min          0.156019        0.155995        0.020584        0.183405\n",
      "25%          0.319910        0.198253        0.048709        0.494845\n",
      "50%          0.487828        0.460206        0.119954        0.732417\n",
      "75%          0.658947        0.768733        0.319367        0.892110\n",
      "max          0.832443        0.950714        0.731994        0.969910\n"
     ]
    }
   ],
   "source": [
    "# Find descriptive statistics\n",
    "statistics = df.describe()\n",
    "\n",
    "# Print the descriptive statistics\n",
    "print(statistics)"
   ]
  },
  {
   "cell_type": "markdown",
   "id": "673c0ac1-51b8-43b1-b3d2-33d598cbc2da",
   "metadata": {},
   "source": [
    "## Task - 4\n",
    "### Check for the null values in 'df' and find the data type of the columns."
   ]
  },
  {
   "cell_type": "code",
   "execution_count": 5,
   "id": "f51d7b77-bfb6-4116-9750-db8c68f0cdd5",
   "metadata": {},
   "outputs": [
    {
     "name": "stdout",
     "output_type": "stream",
     "text": [
      "Null values:\n",
      "Random value 1    0\n",
      "Random value 2    0\n",
      "Random value 3    0\n",
      "Random value 4    0\n",
      "dtype: int64\n",
      "\n",
      "Data types:\n",
      "Random value 1    float64\n",
      "Random value 2    float64\n",
      "Random value 3    float64\n",
      "Random value 4    float64\n",
      "dtype: object\n"
     ]
    }
   ],
   "source": [
    "# Check for null values\n",
    "null_values = df.isnull().sum()\n",
    "\n",
    "# Print the null values\n",
    "print(\"Null values:\")\n",
    "print(null_values)\n",
    "\n",
    "# Find the data type of columns\n",
    "data_types = df.dtypes\n",
    "\n",
    "# Print the data types\n",
    "print(\"\\nData types:\")\n",
    "print(data_types)"
   ]
  },
  {
   "cell_type": "markdown",
   "id": "a11293b9-c066-4e83-8ac5-0954a0912fc4",
   "metadata": {},
   "source": [
    "## Task - 5\n",
    "### Display the 'Random value 2' & 'Random value 3' columns with location method and index location method."
   ]
  },
  {
   "cell_type": "code",
   "execution_count": 6,
   "id": "b5a3fa2e-7b00-4a52-ba44-d2f69f801fcb",
   "metadata": {},
   "outputs": [
    {
     "name": "stdout",
     "output_type": "stream",
     "text": [
      "Columns using loc:\n",
      "    Random value 2  Random value 3\n",
      "0        0.950714        0.731994\n",
      "1        0.155995        0.058084\n",
      "2        0.708073        0.020584\n",
      "3        0.212339        0.181825\n",
      "\n",
      "Columns using iloc:\n",
      "    Random value 2  Random value 3\n",
      "0        0.950714        0.731994\n",
      "1        0.155995        0.058084\n",
      "2        0.708073        0.020584\n",
      "3        0.212339        0.181825\n"
     ]
    }
   ],
   "source": [
    "# Display columns using the location method (loc)\n",
    "loc_columns = df.loc[:, ['Random value 2', 'Random value 3']]\n",
    "print(\"Columns using loc:\\n\", loc_columns)\n",
    "\n",
    "# Display columns using the index location method (iloc)\n",
    "iloc_columns = df.iloc[:, [1, 2]]\n",
    "print(\"\\nColumns using iloc:\\n\", iloc_columns)"
   ]
  },
  {
   "cell_type": "code",
   "execution_count": null,
   "id": "c432bf85-343f-4675-8817-ec64950d69cc",
   "metadata": {},
   "outputs": [],
   "source": []
  }
 ],
 "metadata": {
  "kernelspec": {
   "display_name": "Python 3 (ipykernel)",
   "language": "python",
   "name": "python3"
  },
  "language_info": {
   "codemirror_mode": {
    "name": "ipython",
    "version": 3
   },
   "file_extension": ".py",
   "mimetype": "text/x-python",
   "name": "python",
   "nbconvert_exporter": "python",
   "pygments_lexer": "ipython3",
   "version": "3.9.0"
  }
 },
 "nbformat": 4,
 "nbformat_minor": 5
}
