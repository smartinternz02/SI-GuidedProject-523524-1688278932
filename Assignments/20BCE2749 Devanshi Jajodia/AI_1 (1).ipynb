{
  "nbformat": 4,
  "nbformat_minor": 0,
  "metadata": {
    "colab": {
      "provenance": []
    },
    "kernelspec": {
      "name": "python3",
      "display_name": "Python 3"
    },
    "language_info": {
      "name": "python"
    }
  },
  "cells": [
    {
      "cell_type": "code",
      "source": [
        "import pandas as pd\n",
        "import numpy as np\n",
        "\n",
        "# Set the random seed for reproducibility\n",
        "np.random.seed(42)\n",
        "\n",
        "# Create a 4x4 array of random values\n",
        "data = np.random.random((4, 4))\n",
        "\n",
        "# Create a DataFrame using the random values\n",
        "df = pd.DataFrame(data, columns=['Random value 1', 'Random value 2', 'Random value 3', 'Random value 4'])\n",
        "\n",
        "# Display the DataFrame before renaming\n",
        "print(\"DataFrame before renaming:\")\n",
        "print(df)\n",
        "\n",
        "# Rename the column names\n",
        "df.rename(columns={'Random value 1': 'Random value 1', \n",
        "                   'Random value 2': 'Random value 2', \n",
        "                   'Random value 3': 'Random value 3', \n",
        "                   'Random value 4': 'Random value 4'}, inplace=True)\n",
        "\n",
        "# Display the DataFrame after renaming\n",
        "print(\"\\nDataFrame after renaming:\")\n",
        "print(df)\n"
      ],
      "metadata": {
        "colab": {
          "base_uri": "https://localhost:8080/"
        },
        "id": "UwI1nWeQAYbx",
        "outputId": "3e73643a-7a3e-49ec-ebae-026008e1526c"
      },
      "execution_count": 2,
      "outputs": [
        {
          "output_type": "stream",
          "name": "stdout",
          "text": [
            "DataFrame before renaming:\n",
            "   Random value 1  Random value 2  Random value 3  Random value 4\n",
            "0        0.374540        0.950714        0.731994        0.598658\n",
            "1        0.156019        0.155995        0.058084        0.866176\n",
            "2        0.601115        0.708073        0.020584        0.969910\n",
            "3        0.832443        0.212339        0.181825        0.183405\n",
            "\n",
            "DataFrame after renaming:\n",
            "   Random value 1  Random value 2  Random value 3  Random value 4\n",
            "0        0.374540        0.950714        0.731994        0.598658\n",
            "1        0.156019        0.155995        0.058084        0.866176\n",
            "2        0.601115        0.708073        0.020584        0.969910\n",
            "3        0.832443        0.212339        0.181825        0.183405\n"
          ]
        }
      ]
    },
    {
      "cell_type": "code",
      "source": [
        "# Descriptive statistics of 'df' dataframe\n",
        "statistics = df.describe()\n",
        "print(\"\\nDescriptive statistics:\")\n",
        "print(statistics)\n"
      ],
      "metadata": {
        "colab": {
          "base_uri": "https://localhost:8080/"
        },
        "id": "b0utD_1TAxiy",
        "outputId": "06aa7312-75ba-4c30-983a-1113a8d01722"
      },
      "execution_count": 3,
      "outputs": [
        {
          "output_type": "stream",
          "name": "stdout",
          "text": [
            "\n",
            "Descriptive statistics:\n",
            "       Random value 1  Random value 2  Random value 3  Random value 4\n",
            "count        4.000000        4.000000        4.000000        4.000000\n",
            "mean         0.491029        0.506780        0.248122        0.654537\n",
            "std          0.291252        0.386153        0.329856        0.350875\n",
            "min          0.156019        0.155995        0.020584        0.183405\n",
            "25%          0.319910        0.198253        0.048709        0.494845\n",
            "50%          0.487828        0.460206        0.119954        0.732417\n",
            "75%          0.658947        0.768733        0.319367        0.892110\n",
            "max          0.832443        0.950714        0.731994        0.969910\n"
          ]
        }
      ]
    },
    {
      "cell_type": "code",
      "source": [
        "# Check for null values\n",
        "null_values = df.isnull().sum()\n",
        "print(\"\\nNull values:\")\n",
        "print(null_values)\n",
        "\n",
        "# Data types of the columns\n",
        "data_types = df.dtypes\n",
        "print(\"\\nData types of the columns:\")\n",
        "print(data_types)\n"
      ],
      "metadata": {
        "colab": {
          "base_uri": "https://localhost:8080/"
        },
        "id": "geXEmeEEA3Cm",
        "outputId": "fb0383c2-f57b-41a5-aacb-8590a78491db"
      },
      "execution_count": 4,
      "outputs": [
        {
          "output_type": "stream",
          "name": "stdout",
          "text": [
            "\n",
            "Null values:\n",
            "Random value 1    0\n",
            "Random value 2    0\n",
            "Random value 3    0\n",
            "Random value 4    0\n",
            "dtype: int64\n",
            "\n",
            "Data types of the columns:\n",
            "Random value 1    float64\n",
            "Random value 2    float64\n",
            "Random value 3    float64\n",
            "Random value 4    float64\n",
            "dtype: object\n"
          ]
        }
      ]
    },
    {
      "cell_type": "code",
      "source": [
        "# Display 'Random value 2' and 'Random value 3' columns with location method\n",
        "random_value_2_3_loc = df.loc[:, ['Random value 2', 'Random value 3']]\n",
        "print(\"\\n'Random value 2' and 'Random value 3' columns with location method:\")\n",
        "print(random_value_2_3_loc)\n",
        "\n",
        "# Display 'Random value 2' and 'Random value 3' columns with index location method\n",
        "random_value_2_3_iloc = df.iloc[:, [1, 2]]\n",
        "print(\"\\n'Random value 2' and 'Random value 3' columns with index location method:\")\n",
        "print(random_value_2_3_iloc)\n"
      ],
      "metadata": {
        "colab": {
          "base_uri": "https://localhost:8080/"
        },
        "id": "DcUi7CIRA9jA",
        "outputId": "10fb0a2b-a320-4bd1-e1ac-f945ee6549d6"
      },
      "execution_count": 5,
      "outputs": [
        {
          "output_type": "stream",
          "name": "stdout",
          "text": [
            "\n",
            "'Random value 2' and 'Random value 3' columns with location method:\n",
            "   Random value 2  Random value 3\n",
            "0        0.950714        0.731994\n",
            "1        0.155995        0.058084\n",
            "2        0.708073        0.020584\n",
            "3        0.212339        0.181825\n",
            "\n",
            "'Random value 2' and 'Random value 3' columns with index location method:\n",
            "   Random value 2  Random value 3\n",
            "0        0.950714        0.731994\n",
            "1        0.155995        0.058084\n",
            "2        0.708073        0.020584\n",
            "3        0.212339        0.181825\n"
          ]
        }
      ]
    },
    {
      "cell_type": "code",
      "source": [],
      "metadata": {
        "id": "py9tO2L2BAD_"
      },
      "execution_count": null,
      "outputs": []
    }
  ]
}