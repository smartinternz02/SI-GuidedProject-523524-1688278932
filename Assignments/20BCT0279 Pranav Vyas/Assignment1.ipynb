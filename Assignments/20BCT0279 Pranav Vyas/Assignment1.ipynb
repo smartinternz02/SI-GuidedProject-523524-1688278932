{
  "nbformat": 4,
  "nbformat_minor": 0,
  "metadata": {
    "colab": {
      "provenance": []
    },
    "kernelspec": {
      "name": "python3",
      "display_name": "Python 3"
    },
    "language_info": {
      "name": "python"
    }
  },
  "cells": [
    {
      "cell_type": "markdown",
      "source": [
        "# **TASK 1**"
      ],
      "metadata": {
        "id": "6rownUUfYqBI"
      }
    },
    {
      "cell_type": "code",
      "execution_count": null,
      "metadata": {
        "colab": {
          "base_uri": "https://localhost:8080/"
        },
        "id": "VtC8iSdl6JGX",
        "outputId": "35dbdaea-e76c-4f0f-cf89-8eda6c47ef10"
      },
      "outputs": [
        {
          "output_type": "stream",
          "name": "stdout",
          "text": [
            "          0         1         2         3\n",
            "0  0.666800  0.211728  0.491237  0.239814\n",
            "1  0.190224  0.278566  0.807821  0.982840\n",
            "2  0.228782  0.632665  0.801256  0.738821\n",
            "3  0.933678  0.937691  0.149705  0.495833\n"
          ]
        }
      ],
      "source": [
        "# TASK 1: Create a pandas dataframe (DataFrame name as 'df') with numpy random values (4 features and 4 observation)\n",
        "\n",
        "import pandas as pd\n",
        "import numpy as np\n",
        "\n",
        "s1 = pd.Series(np.random.rand(4))\n",
        "s2 = pd.Series(np.random.rand(4))\n",
        "s3 = pd.Series(np.random.rand(4))\n",
        "s4 = pd.Series(np.random.rand(4))\n",
        "\n",
        "df = pd.DataFrame([s1,s2,s3,s4])\n",
        "print(df)"
      ]
    },
    {
      "cell_type": "markdown",
      "source": [
        "# **TASK 2**"
      ],
      "metadata": {
        "id": "co2F1-6jYuII"
      }
    },
    {
      "cell_type": "code",
      "source": [
        "# TASK 2: Rename the task 1 'df' dataframe column names to 'Random value 1', 'Random value 2', 'Random value 3' & 'Random value 4\n",
        "\n",
        "df.columns = ['Random value 1','Random value 2','Random value 3','Random value 4'];\n",
        "df\n"
      ],
      "metadata": {
        "colab": {
          "base_uri": "https://localhost:8080/",
          "height": 175
        },
        "id": "rt5DvxT0BkG0",
        "outputId": "cc3e0833-bdf8-475e-b74b-3163b32b535e"
      },
      "execution_count": null,
      "outputs": [
        {
          "output_type": "execute_result",
          "data": {
            "text/plain": [
              "   Random value 1  Random value 2  Random value 3  Random value 4\n",
              "0        0.666800        0.211728        0.491237        0.239814\n",
              "1        0.190224        0.278566        0.807821        0.982840\n",
              "2        0.228782        0.632665        0.801256        0.738821\n",
              "3        0.933678        0.937691        0.149705        0.495833"
            ],
            "text/html": [
              "\n",
              "  <div id=\"df-1d25e976-3111-4432-9c72-92b37056de9b\">\n",
              "    <div class=\"colab-df-container\">\n",
              "      <div>\n",
              "<style scoped>\n",
              "    .dataframe tbody tr th:only-of-type {\n",
              "        vertical-align: middle;\n",
              "    }\n",
              "\n",
              "    .dataframe tbody tr th {\n",
              "        vertical-align: top;\n",
              "    }\n",
              "\n",
              "    .dataframe thead th {\n",
              "        text-align: right;\n",
              "    }\n",
              "</style>\n",
              "<table border=\"1\" class=\"dataframe\">\n",
              "  <thead>\n",
              "    <tr style=\"text-align: right;\">\n",
              "      <th></th>\n",
              "      <th>Random value 1</th>\n",
              "      <th>Random value 2</th>\n",
              "      <th>Random value 3</th>\n",
              "      <th>Random value 4</th>\n",
              "    </tr>\n",
              "  </thead>\n",
              "  <tbody>\n",
              "    <tr>\n",
              "      <th>0</th>\n",
              "      <td>0.666800</td>\n",
              "      <td>0.211728</td>\n",
              "      <td>0.491237</td>\n",
              "      <td>0.239814</td>\n",
              "    </tr>\n",
              "    <tr>\n",
              "      <th>1</th>\n",
              "      <td>0.190224</td>\n",
              "      <td>0.278566</td>\n",
              "      <td>0.807821</td>\n",
              "      <td>0.982840</td>\n",
              "    </tr>\n",
              "    <tr>\n",
              "      <th>2</th>\n",
              "      <td>0.228782</td>\n",
              "      <td>0.632665</td>\n",
              "      <td>0.801256</td>\n",
              "      <td>0.738821</td>\n",
              "    </tr>\n",
              "    <tr>\n",
              "      <th>3</th>\n",
              "      <td>0.933678</td>\n",
              "      <td>0.937691</td>\n",
              "      <td>0.149705</td>\n",
              "      <td>0.495833</td>\n",
              "    </tr>\n",
              "  </tbody>\n",
              "</table>\n",
              "</div>\n",
              "      <button class=\"colab-df-convert\" onclick=\"convertToInteractive('df-1d25e976-3111-4432-9c72-92b37056de9b')\"\n",
              "              title=\"Convert this dataframe to an interactive table.\"\n",
              "              style=\"display:none;\">\n",
              "        \n",
              "  <svg xmlns=\"http://www.w3.org/2000/svg\" height=\"24px\"viewBox=\"0 0 24 24\"\n",
              "       width=\"24px\">\n",
              "    <path d=\"M0 0h24v24H0V0z\" fill=\"none\"/>\n",
              "    <path d=\"M18.56 5.44l.94 2.06.94-2.06 2.06-.94-2.06-.94-.94-2.06-.94 2.06-2.06.94zm-11 1L8.5 8.5l.94-2.06 2.06-.94-2.06-.94L8.5 2.5l-.94 2.06-2.06.94zm10 10l.94 2.06.94-2.06 2.06-.94-2.06-.94-.94-2.06-.94 2.06-2.06.94z\"/><path d=\"M17.41 7.96l-1.37-1.37c-.4-.4-.92-.59-1.43-.59-.52 0-1.04.2-1.43.59L10.3 9.45l-7.72 7.72c-.78.78-.78 2.05 0 2.83L4 21.41c.39.39.9.59 1.41.59.51 0 1.02-.2 1.41-.59l7.78-7.78 2.81-2.81c.8-.78.8-2.07 0-2.86zM5.41 20L4 18.59l7.72-7.72 1.47 1.35L5.41 20z\"/>\n",
              "  </svg>\n",
              "      </button>\n",
              "      \n",
              "  <style>\n",
              "    .colab-df-container {\n",
              "      display:flex;\n",
              "      flex-wrap:wrap;\n",
              "      gap: 12px;\n",
              "    }\n",
              "\n",
              "    .colab-df-convert {\n",
              "      background-color: #E8F0FE;\n",
              "      border: none;\n",
              "      border-radius: 50%;\n",
              "      cursor: pointer;\n",
              "      display: none;\n",
              "      fill: #1967D2;\n",
              "      height: 32px;\n",
              "      padding: 0 0 0 0;\n",
              "      width: 32px;\n",
              "    }\n",
              "\n",
              "    .colab-df-convert:hover {\n",
              "      background-color: #E2EBFA;\n",
              "      box-shadow: 0px 1px 2px rgba(60, 64, 67, 0.3), 0px 1px 3px 1px rgba(60, 64, 67, 0.15);\n",
              "      fill: #174EA6;\n",
              "    }\n",
              "\n",
              "    [theme=dark] .colab-df-convert {\n",
              "      background-color: #3B4455;\n",
              "      fill: #D2E3FC;\n",
              "    }\n",
              "\n",
              "    [theme=dark] .colab-df-convert:hover {\n",
              "      background-color: #434B5C;\n",
              "      box-shadow: 0px 1px 3px 1px rgba(0, 0, 0, 0.15);\n",
              "      filter: drop-shadow(0px 1px 2px rgba(0, 0, 0, 0.3));\n",
              "      fill: #FFFFFF;\n",
              "    }\n",
              "  </style>\n",
              "\n",
              "      <script>\n",
              "        const buttonEl =\n",
              "          document.querySelector('#df-1d25e976-3111-4432-9c72-92b37056de9b button.colab-df-convert');\n",
              "        buttonEl.style.display =\n",
              "          google.colab.kernel.accessAllowed ? 'block' : 'none';\n",
              "\n",
              "        async function convertToInteractive(key) {\n",
              "          const element = document.querySelector('#df-1d25e976-3111-4432-9c72-92b37056de9b');\n",
              "          const dataTable =\n",
              "            await google.colab.kernel.invokeFunction('convertToInteractive',\n",
              "                                                     [key], {});\n",
              "          if (!dataTable) return;\n",
              "\n",
              "          const docLinkHtml = 'Like what you see? Visit the ' +\n",
              "            '<a target=\"_blank\" href=https://colab.research.google.com/notebooks/data_table.ipynb>data table notebook</a>'\n",
              "            + ' to learn more about interactive tables.';\n",
              "          element.innerHTML = '';\n",
              "          dataTable['output_type'] = 'display_data';\n",
              "          await google.colab.output.renderOutput(dataTable, element);\n",
              "          const docLink = document.createElement('div');\n",
              "          docLink.innerHTML = docLinkHtml;\n",
              "          element.appendChild(docLink);\n",
              "        }\n",
              "      </script>\n",
              "    </div>\n",
              "  </div>\n",
              "  "
            ]
          },
          "metadata": {},
          "execution_count": 19
        }
      ]
    },
    {
      "cell_type": "markdown",
      "source": [
        "# **TASK 3**"
      ],
      "metadata": {
        "id": "Wn1Imdo1YxAQ"
      }
    },
    {
      "cell_type": "code",
      "source": [
        "# TASK 3:  Find the descriptive statistics of the 'df' dataframe\n",
        "\n",
        "df.describe(include=\"all\")"
      ],
      "metadata": {
        "colab": {
          "base_uri": "https://localhost:8080/",
          "height": 300
        },
        "id": "4Qqn1K1qCMYo",
        "outputId": "8a43c9b8-c1f9-4cbc-dbac-a9858fbb35ac"
      },
      "execution_count": null,
      "outputs": [
        {
          "output_type": "execute_result",
          "data": {
            "text/plain": [
              "       Random value 1  Random value 2  Random value 3  Random value 4\n",
              "count        4.000000        4.000000        4.000000        4.000000\n",
              "mean         0.504871        0.515163        0.562505        0.614327\n",
              "std          0.358387        0.336842        0.312338        0.319166\n",
              "min          0.190224        0.211728        0.149705        0.239814\n",
              "25%          0.219142        0.261857        0.405854        0.431828\n",
              "50%          0.447791        0.455616        0.646246        0.617327\n",
              "75%          0.733520        0.708922        0.802897        0.799826\n",
              "max          0.933678        0.937691        0.807821        0.982840"
            ],
            "text/html": [
              "\n",
              "  <div id=\"df-ff22372e-40d0-4633-ba82-ac5ca7379fc6\">\n",
              "    <div class=\"colab-df-container\">\n",
              "      <div>\n",
              "<style scoped>\n",
              "    .dataframe tbody tr th:only-of-type {\n",
              "        vertical-align: middle;\n",
              "    }\n",
              "\n",
              "    .dataframe tbody tr th {\n",
              "        vertical-align: top;\n",
              "    }\n",
              "\n",
              "    .dataframe thead th {\n",
              "        text-align: right;\n",
              "    }\n",
              "</style>\n",
              "<table border=\"1\" class=\"dataframe\">\n",
              "  <thead>\n",
              "    <tr style=\"text-align: right;\">\n",
              "      <th></th>\n",
              "      <th>Random value 1</th>\n",
              "      <th>Random value 2</th>\n",
              "      <th>Random value 3</th>\n",
              "      <th>Random value 4</th>\n",
              "    </tr>\n",
              "  </thead>\n",
              "  <tbody>\n",
              "    <tr>\n",
              "      <th>count</th>\n",
              "      <td>4.000000</td>\n",
              "      <td>4.000000</td>\n",
              "      <td>4.000000</td>\n",
              "      <td>4.000000</td>\n",
              "    </tr>\n",
              "    <tr>\n",
              "      <th>mean</th>\n",
              "      <td>0.504871</td>\n",
              "      <td>0.515163</td>\n",
              "      <td>0.562505</td>\n",
              "      <td>0.614327</td>\n",
              "    </tr>\n",
              "    <tr>\n",
              "      <th>std</th>\n",
              "      <td>0.358387</td>\n",
              "      <td>0.336842</td>\n",
              "      <td>0.312338</td>\n",
              "      <td>0.319166</td>\n",
              "    </tr>\n",
              "    <tr>\n",
              "      <th>min</th>\n",
              "      <td>0.190224</td>\n",
              "      <td>0.211728</td>\n",
              "      <td>0.149705</td>\n",
              "      <td>0.239814</td>\n",
              "    </tr>\n",
              "    <tr>\n",
              "      <th>25%</th>\n",
              "      <td>0.219142</td>\n",
              "      <td>0.261857</td>\n",
              "      <td>0.405854</td>\n",
              "      <td>0.431828</td>\n",
              "    </tr>\n",
              "    <tr>\n",
              "      <th>50%</th>\n",
              "      <td>0.447791</td>\n",
              "      <td>0.455616</td>\n",
              "      <td>0.646246</td>\n",
              "      <td>0.617327</td>\n",
              "    </tr>\n",
              "    <tr>\n",
              "      <th>75%</th>\n",
              "      <td>0.733520</td>\n",
              "      <td>0.708922</td>\n",
              "      <td>0.802897</td>\n",
              "      <td>0.799826</td>\n",
              "    </tr>\n",
              "    <tr>\n",
              "      <th>max</th>\n",
              "      <td>0.933678</td>\n",
              "      <td>0.937691</td>\n",
              "      <td>0.807821</td>\n",
              "      <td>0.982840</td>\n",
              "    </tr>\n",
              "  </tbody>\n",
              "</table>\n",
              "</div>\n",
              "      <button class=\"colab-df-convert\" onclick=\"convertToInteractive('df-ff22372e-40d0-4633-ba82-ac5ca7379fc6')\"\n",
              "              title=\"Convert this dataframe to an interactive table.\"\n",
              "              style=\"display:none;\">\n",
              "        \n",
              "  <svg xmlns=\"http://www.w3.org/2000/svg\" height=\"24px\"viewBox=\"0 0 24 24\"\n",
              "       width=\"24px\">\n",
              "    <path d=\"M0 0h24v24H0V0z\" fill=\"none\"/>\n",
              "    <path d=\"M18.56 5.44l.94 2.06.94-2.06 2.06-.94-2.06-.94-.94-2.06-.94 2.06-2.06.94zm-11 1L8.5 8.5l.94-2.06 2.06-.94-2.06-.94L8.5 2.5l-.94 2.06-2.06.94zm10 10l.94 2.06.94-2.06 2.06-.94-2.06-.94-.94-2.06-.94 2.06-2.06.94z\"/><path d=\"M17.41 7.96l-1.37-1.37c-.4-.4-.92-.59-1.43-.59-.52 0-1.04.2-1.43.59L10.3 9.45l-7.72 7.72c-.78.78-.78 2.05 0 2.83L4 21.41c.39.39.9.59 1.41.59.51 0 1.02-.2 1.41-.59l7.78-7.78 2.81-2.81c.8-.78.8-2.07 0-2.86zM5.41 20L4 18.59l7.72-7.72 1.47 1.35L5.41 20z\"/>\n",
              "  </svg>\n",
              "      </button>\n",
              "      \n",
              "  <style>\n",
              "    .colab-df-container {\n",
              "      display:flex;\n",
              "      flex-wrap:wrap;\n",
              "      gap: 12px;\n",
              "    }\n",
              "\n",
              "    .colab-df-convert {\n",
              "      background-color: #E8F0FE;\n",
              "      border: none;\n",
              "      border-radius: 50%;\n",
              "      cursor: pointer;\n",
              "      display: none;\n",
              "      fill: #1967D2;\n",
              "      height: 32px;\n",
              "      padding: 0 0 0 0;\n",
              "      width: 32px;\n",
              "    }\n",
              "\n",
              "    .colab-df-convert:hover {\n",
              "      background-color: #E2EBFA;\n",
              "      box-shadow: 0px 1px 2px rgba(60, 64, 67, 0.3), 0px 1px 3px 1px rgba(60, 64, 67, 0.15);\n",
              "      fill: #174EA6;\n",
              "    }\n",
              "\n",
              "    [theme=dark] .colab-df-convert {\n",
              "      background-color: #3B4455;\n",
              "      fill: #D2E3FC;\n",
              "    }\n",
              "\n",
              "    [theme=dark] .colab-df-convert:hover {\n",
              "      background-color: #434B5C;\n",
              "      box-shadow: 0px 1px 3px 1px rgba(0, 0, 0, 0.15);\n",
              "      filter: drop-shadow(0px 1px 2px rgba(0, 0, 0, 0.3));\n",
              "      fill: #FFFFFF;\n",
              "    }\n",
              "  </style>\n",
              "\n",
              "      <script>\n",
              "        const buttonEl =\n",
              "          document.querySelector('#df-ff22372e-40d0-4633-ba82-ac5ca7379fc6 button.colab-df-convert');\n",
              "        buttonEl.style.display =\n",
              "          google.colab.kernel.accessAllowed ? 'block' : 'none';\n",
              "\n",
              "        async function convertToInteractive(key) {\n",
              "          const element = document.querySelector('#df-ff22372e-40d0-4633-ba82-ac5ca7379fc6');\n",
              "          const dataTable =\n",
              "            await google.colab.kernel.invokeFunction('convertToInteractive',\n",
              "                                                     [key], {});\n",
              "          if (!dataTable) return;\n",
              "\n",
              "          const docLinkHtml = 'Like what you see? Visit the ' +\n",
              "            '<a target=\"_blank\" href=https://colab.research.google.com/notebooks/data_table.ipynb>data table notebook</a>'\n",
              "            + ' to learn more about interactive tables.';\n",
              "          element.innerHTML = '';\n",
              "          dataTable['output_type'] = 'display_data';\n",
              "          await google.colab.output.renderOutput(dataTable, element);\n",
              "          const docLink = document.createElement('div');\n",
              "          docLink.innerHTML = docLinkHtml;\n",
              "          element.appendChild(docLink);\n",
              "        }\n",
              "      </script>\n",
              "    </div>\n",
              "  </div>\n",
              "  "
            ]
          },
          "metadata": {},
          "execution_count": 20
        }
      ]
    },
    {
      "cell_type": "markdown",
      "source": [
        "# **TASK 4**"
      ],
      "metadata": {
        "id": "B5912bjZY06B"
      }
    },
    {
      "cell_type": "code",
      "source": [
        "# TASK 4: Check for the null values in 'df' and find the data type of the columns.\n",
        "\n",
        "# Since our DataFrame was created using random real number values, it does not contain any null values.\n",
        "# So we first manually enter some null values into our DataFrame and then check for null values.\n",
        "\n",
        "# Entering null values into some specific positions and printing the DataFrame.\n",
        "df.loc[0,'Random value 2']=np.nan\n",
        "df.loc[2,'Random value 3']=np.nan\n",
        "df.loc[3,'Random value 1']=np.nan\n",
        "print(df,\"\\n\\n\")\n",
        "\n",
        "# Finding the null values\n",
        "print(df.isnull(),\"\\n\\n\")\n",
        "print(df.isnull().sum(),\"\\n\\n\")\n",
        "\n",
        "# Printing the datatype of all the columns\n",
        "print(\"Datatype of column 'Random value 1' : \",df['Random value 1'].dtype)\n",
        "print(\"Datatype of column 'Random value 2' : \",df['Random value 2'].dtype)\n",
        "print(\"Datatype of column 'Random value 3' : \",df['Random value 3'].dtype)\n",
        "print(\"Datatype of column 'Random value 4' : \",df['Random value 4'].dtype)"
      ],
      "metadata": {
        "colab": {
          "base_uri": "https://localhost:8080/"
        },
        "id": "E7EELeQVCUcQ",
        "outputId": "96b5b80b-085f-42aa-92e5-33e90a6f3c8b"
      },
      "execution_count": null,
      "outputs": [
        {
          "output_type": "stream",
          "name": "stdout",
          "text": [
            "   Random value 1  Random value 2  Random value 3  Random value 4\n",
            "0        0.666800             NaN        0.491237        0.239814\n",
            "1        0.190224        0.278566        0.807821        0.982840\n",
            "2        0.228782        0.632665             NaN        0.738821\n",
            "3             NaN        0.937691        0.149705        0.495833 \n",
            "\n",
            "\n",
            "   Random value 1  Random value 2  Random value 3  Random value 4\n",
            "0           False            True           False           False\n",
            "1           False           False           False           False\n",
            "2           False           False            True           False\n",
            "3            True           False           False           False \n",
            "\n",
            "\n",
            "Random value 1    1\n",
            "Random value 2    1\n",
            "Random value 3    1\n",
            "Random value 4    0\n",
            "dtype: int64 \n",
            "\n",
            "\n",
            "Datatype of column 'Random value 1' :  float64\n",
            "Datatype of column 'Random value 2' :  float64\n",
            "Datatype of column 'Random value 3' :  float64\n",
            "Datatype of column 'Random value 4' :  float64\n"
          ]
        }
      ]
    },
    {
      "cell_type": "markdown",
      "source": [
        "# **TASK 5**"
      ],
      "metadata": {
        "id": "39_X55WgY5Qx"
      }
    },
    {
      "cell_type": "code",
      "source": [
        "# TASK 5: Display the 'Random value 2' & 'Random value 3' columns with location method and index location method\n",
        "\n",
        "# Printing the columns using location method: \n",
        "print(df.loc[0:3,'Random value 2':'Random value 3'],\"\\n\\n\")\n",
        "\n",
        "#Printing the index location method: \n",
        "print(df.iloc[0:4,1:3])"
      ],
      "metadata": {
        "colab": {
          "base_uri": "https://localhost:8080/"
        },
        "id": "I5AQlpJbFi3v",
        "outputId": "a2e291eb-0f15-440f-f3a5-fa2714415971"
      },
      "execution_count": null,
      "outputs": [
        {
          "output_type": "stream",
          "name": "stdout",
          "text": [
            "   Random value 2  Random value 3\n",
            "0             NaN        0.491237\n",
            "1        0.278566        0.807821\n",
            "2        0.632665             NaN\n",
            "3        0.937691        0.149705 \n",
            "\n",
            "\n",
            "   Random value 2  Random value 3\n",
            "0             NaN        0.491237\n",
            "1        0.278566        0.807821\n",
            "2        0.632665             NaN\n",
            "3        0.937691        0.149705\n"
          ]
        }
      ]
    }
  ]
}