{
  "nbformat": 4,
  "nbformat_minor": 0,
  "metadata": {
    "colab": {
      "provenance": [],
      "gpuType": "T4"
    },
    "kernelspec": {
      "name": "python3",
      "display_name": "Python 3"
    },
    "language_info": {
      "name": "python"
    },
    "accelerator": "GPU"
  },
  "cells": [
    {
      "cell_type": "markdown",
      "source": [
        "# **ASSIGNMENT 3**"
      ],
      "metadata": {
        "id": "R9ezZ60ZSTxD"
      }
    },
    {
      "cell_type": "code",
      "source": [
        "from google.colab import drive\n",
        "drive.mount('/content/drive')"
      ],
      "metadata": {
        "colab": {
          "base_uri": "https://localhost:8080/"
        },
        "id": "5hqDlb5i0E_n",
        "outputId": "eab98b18-347d-455e-bce0-9a1d20b0555f"
      },
      "execution_count": null,
      "outputs": [
        {
          "output_type": "stream",
          "name": "stdout",
          "text": [
            "Drive already mounted at /content/drive; to attempt to forcibly remount, call drive.mount(\"/content/drive\", force_remount=True).\n"
          ]
        }
      ]
    },
    {
      "cell_type": "code",
      "source": [
        "from tensorflow.keras.preprocessing.image import ImageDataGenerator"
      ],
      "metadata": {
        "id": "XTTMcV6O0zda"
      },
      "execution_count": null,
      "outputs": []
    },
    {
      "cell_type": "code",
      "source": [
        "train_gen = ImageDataGenerator(rescale=(1./255),horizontal_flip=True,shear_range=0.2)\n",
        "test_gen = ImageDataGenerator(rescale=(1./255))"
      ],
      "metadata": {
        "id": "YDj2XT8M0-Ol"
      },
      "execution_count": null,
      "outputs": []
    },
    {
      "cell_type": "code",
      "source": [
        "train = train_gen.flow_from_directory('/content/drive/MyDrive/Train_Data',\n",
        "                                      target_size=(120, 120),\n",
        "                                      class_mode='categorical', \n",
        "                                      batch_size=8)\n",
        "test = test_gen.flow_from_directory('/content/drive/MyDrive/Test_Data',\n",
        "                                    target_size=(120, 120),\n",
        "                                      class_mode='categorical', \n",
        "                                      batch_size=8)"
      ],
      "metadata": {
        "colab": {
          "base_uri": "https://localhost:8080/"
        },
        "id": "nFR0WFUe1BfD",
        "outputId": "e3425645-2f01-4624-97cc-03d747633972"
      },
      "execution_count": null,
      "outputs": [
        {
          "output_type": "stream",
          "name": "stdout",
          "text": [
            "Found 150 images belonging to 16 classes.\n",
            "Found 157 images belonging to 16 classes.\n"
          ]
        }
      ]
    },
    {
      "cell_type": "code",
      "source": [
        "train.class_indices"
      ],
      "metadata": {
        "colab": {
          "base_uri": "https://localhost:8080/"
        },
        "id": "jIk2h8fy1OUT",
        "outputId": "3c7e7cd9-158f-4dea-de64-05c3e06a20ba"
      },
      "execution_count": null,
      "outputs": [
        {
          "output_type": "execute_result",
          "data": {
            "text/plain": [
              "{'blasti': 0,\n",
              " 'bonegl': 1,\n",
              " 'brhkyt': 2,\n",
              " 'cbrtsh': 3,\n",
              " 'cmnmyn': 4,\n",
              " 'gretit': 5,\n",
              " 'hilpig': 6,\n",
              " 'himbul': 7,\n",
              " 'himgri': 8,\n",
              " 'hsparo': 9,\n",
              " 'indvul': 10,\n",
              " 'jglowl': 11,\n",
              " 'lbicrw': 12,\n",
              " 'mgprob': 13,\n",
              " 'rebimg': 14,\n",
              " 'wcrsrt': 15}"
            ]
          },
          "metadata": {},
          "execution_count": 6
        }
      ]
    },
    {
      "cell_type": "code",
      "source": [
        "from tensorflow.keras.layers import Convolution2D,MaxPooling2D,Flatten,Dense\n",
        "from tensorflow.keras.models import Sequential"
      ],
      "metadata": {
        "id": "xabZaSKn1REt"
      },
      "execution_count": null,
      "outputs": []
    },
    {
      "cell_type": "code",
      "source": [
        "model = Sequential()\n",
        "model.add(Convolution2D(20,(3,3),activation='relu',input_shape=(120, 120, 3)))\n",
        "model.add(MaxPooling2D(pool_size=(2,2)))\n",
        "model.add(Flatten())\n",
        "model.add(Dense(45,activation='relu'))\n",
        "model.add(Dense(16,activation='softmax'))"
      ],
      "metadata": {
        "id": "qh0MDvzg1TI0"
      },
      "execution_count": null,
      "outputs": []
    },
    {
      "cell_type": "code",
      "source": [
        "model.compile(optimizer='adam',loss='categorical_crossentropy',metrics=['accuracy'])"
      ],
      "metadata": {
        "id": "16VrsxNc1jAD"
      },
      "execution_count": null,
      "outputs": []
    },
    {
      "cell_type": "code",
      "source": [
        "model.fit(train,batch_size=8,validation_data=test,epochs=30)"
      ],
      "metadata": {
        "colab": {
          "base_uri": "https://localhost:8080/"
        },
        "id": "55KuhJck7c2T",
        "outputId": "9c74561b-e913-4c81-9c40-5e0992276745"
      },
      "execution_count": null,
      "outputs": [
        {
          "output_type": "stream",
          "name": "stdout",
          "text": [
            "Epoch 1/30\n",
            "19/19 [==============================] - 394s 21s/step - loss: 3.7865 - accuracy: 0.0733 - val_loss: 2.8036 - val_accuracy: 0.1210\n",
            "Epoch 2/30\n",
            "19/19 [==============================] - 87s 5s/step - loss: 2.7077 - accuracy: 0.1467 - val_loss: 2.7677 - val_accuracy: 0.0955\n",
            "Epoch 3/30\n",
            "19/19 [==============================] - 86s 5s/step - loss: 2.5966 - accuracy: 0.1867 - val_loss: 2.8278 - val_accuracy: 0.1019\n",
            "Epoch 4/30\n",
            "19/19 [==============================] - 86s 5s/step - loss: 2.5225 - accuracy: 0.2200 - val_loss: 2.7653 - val_accuracy: 0.0573\n",
            "Epoch 5/30\n",
            "19/19 [==============================] - 118s 6s/step - loss: 2.4335 - accuracy: 0.2267 - val_loss: 2.7521 - val_accuracy: 0.1401\n",
            "Epoch 6/30\n",
            "19/19 [==============================] - 88s 5s/step - loss: 2.3884 - accuracy: 0.2400 - val_loss: 2.8784 - val_accuracy: 0.1083\n",
            "Epoch 7/30\n",
            "19/19 [==============================] - 87s 5s/step - loss: 2.3714 - accuracy: 0.2400 - val_loss: 2.7150 - val_accuracy: 0.1274\n",
            "Epoch 8/30\n",
            "19/19 [==============================] - 119s 7s/step - loss: 2.2854 - accuracy: 0.2533 - val_loss: 2.7295 - val_accuracy: 0.1338\n",
            "Epoch 9/30\n",
            "19/19 [==============================] - 87s 5s/step - loss: 2.2449 - accuracy: 0.2600 - val_loss: 2.7441 - val_accuracy: 0.1465\n",
            "Epoch 10/30\n",
            "19/19 [==============================] - 88s 5s/step - loss: 2.1884 - accuracy: 0.3200 - val_loss: 2.7649 - val_accuracy: 0.0828\n",
            "Epoch 11/30\n",
            "19/19 [==============================] - 86s 5s/step - loss: 2.1603 - accuracy: 0.3133 - val_loss: 2.8343 - val_accuracy: 0.1465\n",
            "Epoch 12/30\n",
            "19/19 [==============================] - 87s 5s/step - loss: 2.0931 - accuracy: 0.3133 - val_loss: 2.8095 - val_accuracy: 0.1847\n",
            "Epoch 13/30\n",
            "19/19 [==============================] - 88s 5s/step - loss: 2.0736 - accuracy: 0.3267 - val_loss: 2.8924 - val_accuracy: 0.1338\n",
            "Epoch 14/30\n",
            "19/19 [==============================] - 87s 5s/step - loss: 2.0355 - accuracy: 0.3467 - val_loss: 2.8957 - val_accuracy: 0.1274\n",
            "Epoch 15/30\n",
            "19/19 [==============================] - 87s 5s/step - loss: 2.0087 - accuracy: 0.3533 - val_loss: 2.8987 - val_accuracy: 0.1783\n",
            "Epoch 16/30\n",
            "19/19 [==============================] - 87s 5s/step - loss: 1.9799 - accuracy: 0.3267 - val_loss: 2.8287 - val_accuracy: 0.1656\n",
            "Epoch 17/30\n",
            "19/19 [==============================] - 87s 5s/step - loss: 1.9493 - accuracy: 0.3333 - val_loss: 2.8991 - val_accuracy: 0.1911\n",
            "Epoch 18/30\n",
            "19/19 [==============================] - 119s 7s/step - loss: 1.9155 - accuracy: 0.3667 - val_loss: 2.9077 - val_accuracy: 0.1656\n",
            "Epoch 19/30\n",
            "19/19 [==============================] - 86s 5s/step - loss: 1.9207 - accuracy: 0.3800 - val_loss: 3.1809 - val_accuracy: 0.1338\n",
            "Epoch 20/30\n",
            "19/19 [==============================] - 87s 5s/step - loss: 1.9853 - accuracy: 0.3467 - val_loss: 3.1345 - val_accuracy: 0.0637\n",
            "Epoch 21/30\n",
            "19/19 [==============================] - 87s 5s/step - loss: 1.9481 - accuracy: 0.3733 - val_loss: 2.9041 - val_accuracy: 0.1338\n",
            "Epoch 22/30\n",
            "19/19 [==============================] - 87s 5s/step - loss: 1.8571 - accuracy: 0.3733 - val_loss: 2.9364 - val_accuracy: 0.1529\n",
            "Epoch 23/30\n",
            "19/19 [==============================] - 86s 5s/step - loss: 1.8261 - accuracy: 0.3800 - val_loss: 2.7899 - val_accuracy: 0.1911\n",
            "Epoch 24/30\n",
            "19/19 [==============================] - 85s 5s/step - loss: 1.7978 - accuracy: 0.3933 - val_loss: 2.7959 - val_accuracy: 0.1592\n",
            "Epoch 25/30\n",
            "19/19 [==============================] - 86s 5s/step - loss: 1.7631 - accuracy: 0.4200 - val_loss: 2.8690 - val_accuracy: 0.1911\n",
            "Epoch 26/30\n",
            "19/19 [==============================] - 120s 7s/step - loss: 1.7456 - accuracy: 0.4000 - val_loss: 2.9683 - val_accuracy: 0.2038\n",
            "Epoch 27/30\n",
            "19/19 [==============================] - ETA: 0s - loss: 1.7179 - accuracy: 0.4200Epoch 28/30\n",
            "19/19 [==============================] - 86s 5s/step - loss: 1.7256 - accuracy: 0.4333 - val_loss: 3.0102 - val_accuracy: 0.1656\n",
            "Epoch 29/30\n",
            "19/19 [==============================] - 88s 5s/step - loss: 1.6602 - accuracy: 0.4267 - val_loss: 3.3372 - val_accuracy: 0.1146\n",
            "Epoch 30/30\n",
            "19/19 [==============================] - 86s 5s/step - loss: 1.6793 - accuracy: 0.4467 - val_loss: 3.2193 - val_accuracy: 0.1338\n"
          ]
        },
        {
          "output_type": "execute_result",
          "data": {
            "text/plain": [
              "<keras.callbacks.History at 0x7fa310ce0a30>"
            ]
          },
          "metadata": {},
          "execution_count": 8
        }
      ]
    },
    {
      "cell_type": "code",
      "source": [
        "import numpy as np\n",
        "from tensorflow.keras.preprocessing import image"
      ],
      "metadata": {
        "id": "RK-xBuB8uePH"
      },
      "execution_count": null,
      "outputs": []
    },
    {
      "cell_type": "code",
      "source": [
        "img = image.load_img('/content/owltest.jpeg',target_size=(120,120))\n",
        "img = image.img_to_array(img)\n",
        "img = np.expand_dims(img,axis=0)\n",
        "pred=np.argmax(model.predict(img))\n",
        "output=['blasti','bonegl','brhkyt','cbrtsh','cmnmyn','gretit','hilpig','himbul','himgri','hsparo','indvul','jglowl','lbicrw','mgprob','rebimg','wcrsrt']\n",
        "print(output[pred])"
      ],
      "metadata": {
        "colab": {
          "base_uri": "https://localhost:8080/"
        },
        "id": "_G6d0FZUuiSY",
        "outputId": "f9fdb5ab-d997-46d8-8840-c9d7e4039642"
      },
      "execution_count": null,
      "outputs": [
        {
          "output_type": "stream",
          "name": "stdout",
          "text": [
            "1/1 [==============================] - 7s 7s/step\n",
            "cmnmyn\n"
          ]
        }
      ]
    },
    {
      "cell_type": "code",
      "source": [
        "img = image.load_img('/content/himalayanpigeon.jpeg',target_size=(120,120))\n",
        "img = image.img_to_array(img)\n",
        "img = np.expand_dims(img,axis=0)\n",
        "pred=np.argmax(model.predict(img))\n",
        "output=['blasti','bonegl','brhkyt','cbrtsh','cmnmyn','gretit','hilpig','himbul','himgri','hsparo','indvul','jglowl','lbicrw','mgprob','rebimg','wcrsrt']\n",
        "print(output[pred])"
      ],
      "metadata": {
        "colab": {
          "base_uri": "https://localhost:8080/"
        },
        "id": "gV2Hlgklza1h",
        "outputId": "17d6b5aa-68b7-467d-efb6-240c5429d00d"
      },
      "execution_count": null,
      "outputs": [
        {
          "output_type": "stream",
          "name": "stdout",
          "text": [
            "1/1 [==============================] - 0s 28ms/step\n",
            "blasti\n"
          ]
        }
      ]
    },
    {
      "cell_type": "code",
      "source": [
        "img = image.load_img('/content/himalayancrow.jpeg',target_size=(120,120))\n",
        "img = image.img_to_array(img)\n",
        "img = np.expand_dims(img,axis=0)\n",
        "pred=np.argmax(model.predict(img))\n",
        "output=['blasti','bonegl','brhkyt','cbrtsh','cmnmyn','gretit','hilpig','himbul','himgri','hsparo','indvul','jglowl','lbicrw','mgprob','rebimg','wcrsrt']\n",
        "print(output[pred])"
      ],
      "metadata": {
        "colab": {
          "base_uri": "https://localhost:8080/"
        },
        "id": "HWXrcBg9zbfx",
        "outputId": "df734f5c-2c63-4064-d9c1-19070ba93788"
      },
      "execution_count": null,
      "outputs": [
        {
          "output_type": "stream",
          "name": "stdout",
          "text": [
            "1/1 [==============================] - 0s 23ms/step\n",
            "cmnmyn\n"
          ]
        }
      ]
    },
    {
      "cell_type": "markdown",
      "source": [
        "# **MODEL TUNING**"
      ],
      "metadata": {
        "id": "Y3ULFkQQz4dm"
      }
    },
    {
      "cell_type": "code",
      "source": [
        "model = Sequential()\n",
        "model.add(Convolution2D(12,(3,3),activation='relu',input_shape=(120, 120, 3)))\n",
        "model.add(MaxPooling2D(pool_size=(2,2)))\n",
        "model.add(Convolution2D(24,(3,3),activation='relu'))\n",
        "model.add(MaxPooling2D(pool_size=(2,2)))\n",
        "model.add(Convolution2D(36,(3,3),activation='relu'))\n",
        "model.add(MaxPooling2D(pool_size=(2,2)))\n",
        "model.add(Flatten())\n",
        "model.add(Dense(64,activation='relu'))\n",
        "model.add(Dense(32,activation='relu'))\n",
        "model.add(Dense(22,activation='relu'))\n",
        "model.add(Dense(16,activation='softmax'))"
      ],
      "metadata": {
        "id": "k8_ey_YWz3ci"
      },
      "execution_count": null,
      "outputs": []
    },
    {
      "cell_type": "code",
      "source": [
        "model.compile(optimizer='adam',loss='categorical_crossentropy',metrics=['accuracy'])"
      ],
      "metadata": {
        "id": "rcUsBQ5V0K56"
      },
      "execution_count": null,
      "outputs": []
    },
    {
      "cell_type": "code",
      "source": [
        "model.fit(train,batch_size=8,validation_data=test,epochs=30)                "
      ],
      "metadata": {
        "colab": {
          "base_uri": "https://localhost:8080/"
        },
        "id": "7OI5iFB7ic_t",
        "outputId": "d5289e7a-ad4b-44c4-d9ee-696fd2c20f9f"
      },
      "execution_count": null,
      "outputs": [
        {
          "output_type": "stream",
          "name": "stdout",
          "text": [
            "Epoch 1/30\n",
            "19/19 [==============================] - 215s 12s/step - loss: 2.7509 - accuracy: 0.1400 - val_loss: 2.7059 - val_accuracy: 0.1274\n",
            "Epoch 2/30\n",
            "19/19 [==============================] - 87s 5s/step - loss: 2.7174 - accuracy: 0.1400 - val_loss: 2.6908 - val_accuracy: 0.1274\n",
            "Epoch 3/30\n",
            "19/19 [==============================] - 86s 5s/step - loss: 2.7046 - accuracy: 0.1333 - val_loss: 2.6809 - val_accuracy: 0.1274\n",
            "Epoch 4/30\n",
            "19/19 [==============================] - 87s 5s/step - loss: 2.6330 - accuracy: 0.1733 - val_loss: 2.6781 - val_accuracy: 0.1465\n",
            "Epoch 5/30\n",
            "19/19 [==============================] - 87s 5s/step - loss: 2.5394 - accuracy: 0.1733 - val_loss: 2.7199 - val_accuracy: 0.1529\n",
            "Epoch 6/30\n",
            "19/19 [==============================] - 86s 5s/step - loss: 2.4706 - accuracy: 0.2067 - val_loss: 2.7162 - val_accuracy: 0.1529\n",
            "Epoch 7/30\n",
            "19/19 [==============================] - 85s 5s/step - loss: 2.3944 - accuracy: 0.1933 - val_loss: 2.7074 - val_accuracy: 0.1783\n",
            "Epoch 8/30\n",
            "19/19 [==============================] - 85s 5s/step - loss: 2.3261 - accuracy: 0.2200 - val_loss: 2.7003 - val_accuracy: 0.1975\n",
            "Epoch 9/30\n",
            "19/19 [==============================] - 118s 6s/step - loss: 2.2615 - accuracy: 0.3067 - val_loss: 2.6717 - val_accuracy: 0.1529\n",
            "Epoch 10/30\n",
            "19/19 [==============================] - 86s 5s/step - loss: 2.2616 - accuracy: 0.2533 - val_loss: 2.6523 - val_accuracy: 0.1592\n",
            "Epoch 11/30\n",
            "19/19 [==============================] - 86s 5s/step - loss: 2.2131 - accuracy: 0.2600 - val_loss: 2.6876 - val_accuracy: 0.2548\n",
            "Epoch 12/30\n",
            "19/19 [==============================] - 85s 5s/step - loss: 2.1224 - accuracy: 0.2800 - val_loss: 2.6973 - val_accuracy: 0.2357\n",
            "Epoch 13/30\n",
            "19/19 [==============================] - 86s 5s/step - loss: 1.9879 - accuracy: 0.3667 - val_loss: 2.7571 - val_accuracy: 0.2166\n",
            "Epoch 14/30\n",
            "19/19 [==============================] - 119s 6s/step - loss: 1.8767 - accuracy: 0.3867 - val_loss: 2.6041 - val_accuracy: 0.2102\n",
            "Epoch 15/30\n",
            "19/19 [==============================] - 86s 5s/step - loss: 1.7654 - accuracy: 0.4200 - val_loss: 2.6345 - val_accuracy: 0.2420\n",
            "Epoch 16/30\n",
            "19/19 [==============================] - 86s 5s/step - loss: 1.6991 - accuracy: 0.4467 - val_loss: 3.3802 - val_accuracy: 0.2102\n",
            "Epoch 17/30\n",
            "19/19 [==============================] - 85s 5s/step - loss: 1.5756 - accuracy: 0.5133 - val_loss: 2.8868 - val_accuracy: 0.2484\n",
            "Epoch 18/30\n",
            "19/19 [==============================] - 87s 5s/step - loss: 1.4367 - accuracy: 0.5200 - val_loss: 2.9492 - val_accuracy: 0.2293\n",
            "Epoch 19/30\n",
            "19/19 [==============================] - 85s 5s/step - loss: 1.3323 - accuracy: 0.5867 - val_loss: 3.2078 - val_accuracy: 0.1847\n",
            "Epoch 20/30\n",
            "19/19 [==============================] - 86s 5s/step - loss: 1.4665 - accuracy: 0.5333 - val_loss: 3.5401 - val_accuracy: 0.2102\n",
            "Epoch 21/30\n",
            "19/19 [==============================] - 86s 5s/step - loss: 1.2954 - accuracy: 0.6000 - val_loss: 3.1838 - val_accuracy: 0.2293\n",
            "Epoch 22/30\n",
            "19/19 [==============================] - 86s 5s/step - loss: 1.1288 - accuracy: 0.6600 - val_loss: 3.4031 - val_accuracy: 0.2102\n",
            "Epoch 23/30\n",
            "19/19 [==============================] - 87s 5s/step - loss: 1.0330 - accuracy: 0.6467 - val_loss: 3.5426 - val_accuracy: 0.2803\n",
            "Epoch 24/30\n",
            "19/19 [==============================] - 85s 5s/step - loss: 0.9163 - accuracy: 0.6667 - val_loss: 4.6455 - val_accuracy: 0.2357\n",
            "Epoch 25/30\n",
            "19/19 [==============================] - 85s 5s/step - loss: 1.1114 - accuracy: 0.6867 - val_loss: 4.4532 - val_accuracy: 0.2102\n",
            "Epoch 26/30\n",
            "19/19 [==============================] - ETA: 0s - loss: 1.0007 - accuracy: 0.6733Epoch 27/30\n",
            "19/19 [==============================] - 85s 5s/step - loss: 0.7643 - accuracy: 0.7667 - val_loss: 4.0202 - val_accuracy: 0.2611\n",
            "Epoch 28/30\n",
            "19/19 [==============================] - 85s 5s/step - loss: 0.7706 - accuracy: 0.7600 - val_loss: 4.3350 - val_accuracy: 0.2675\n",
            "Epoch 29/30\n",
            "19/19 [==============================] - 85s 5s/step - loss: 0.5292 - accuracy: 0.8333 - val_loss: 4.6041 - val_accuracy: 0.2675\n",
            "Epoch 30/30\n",
            "19/19 [==============================] - 85s 5s/step - loss: 0.5109 - accuracy: 0.8200 - val_loss: 4.5975 - val_accuracy: 0.3121\n"
          ]
        },
        {
          "output_type": "execute_result",
          "data": {
            "text/plain": [
              "<keras.callbacks.History at 0x7fb4682055a0>"
            ]
          },
          "metadata": {},
          "execution_count": 11
        }
      ]
    },
    {
      "cell_type": "code",
      "source": [
        "model.save('TunedModelWeights.h5')"
      ],
      "metadata": {
        "id": "pwxvnGwe-VsJ"
      },
      "execution_count": null,
      "outputs": []
    },
    {
      "cell_type": "code",
      "source": [
        "img = image.load_img('/content/jungleowl.jpg',target_size=(120,120))\n",
        "img = image.img_to_array(img)\n",
        "img = np.expand_dims(img,axis=0)\n",
        "pred=np.argmax(model.predict(img))\n",
        "output=['blasti','bonegl','brhkyt','cbrtsh','cmnmyn','gretit','hilpig','himbul','himgri','hsparo','indvul','jglowl','lbicrw','mgprob','rebimg','wcrsrt']\n",
        "print(output[pred])"
      ],
      "metadata": {
        "colab": {
          "base_uri": "https://localhost:8080/"
        },
        "id": "2hnCBzSuAVVs",
        "outputId": "0711792b-ed47-4393-ebcd-4b7844cea069"
      },
      "execution_count": null,
      "outputs": [
        {
          "output_type": "stream",
          "name": "stdout",
          "text": [
            "1/1 [==============================] - 0s 225ms/step\n",
            "jglowl\n"
          ]
        }
      ]
    },
    {
      "cell_type": "code",
      "source": [
        "img = image.load_img('/content/himalayansparrow.JPG',target_size=(120,120))\n",
        "img = image.img_to_array(img)\n",
        "img = np.expand_dims(img,axis=0)\n",
        "pred=np.argmax(model.predict(img))\n",
        "output=['blasti','bonegl','brhkyt','cbrtsh','cmnmyn','gretit','hilpig','himbul','himgri','hsparo','indvul','jglowl','lbicrw','mgprob','rebimg','wcrsrt']\n",
        "print(output[pred])"
      ],
      "metadata": {
        "colab": {
          "base_uri": "https://localhost:8080/"
        },
        "id": "661ogomH_B8u",
        "outputId": "70b8058f-80fd-429f-e6cb-27bb14cfd73a"
      },
      "execution_count": null,
      "outputs": [
        {
          "output_type": "stream",
          "name": "stdout",
          "text": [
            "1/1 [==============================] - 0s 30ms/step\n",
            "cmnmyn\n"
          ]
        }
      ]
    },
    {
      "cell_type": "code",
      "source": [
        "img = image.load_img('/content/crow.JPG',target_size=(120,120))\n",
        "img = image.img_to_array(img)\n",
        "img = np.expand_dims(img,axis=0)\n",
        "pred=np.argmax(model.predict(img))\n",
        "output=['blasti','bonegl','brhkyt','cbrtsh','cmnmyn','gretit','hilpig','himbul','himgri','hsparo','indvul','jglowl','lbicrw','mgprob','rebimg','wcrsrt']\n",
        "print(output[pred])"
      ],
      "metadata": {
        "colab": {
          "base_uri": "https://localhost:8080/"
        },
        "id": "UfKaIcRG_LDu",
        "outputId": "44c7c14f-4fee-421a-de0f-76e60b0a0baf"
      },
      "execution_count": null,
      "outputs": [
        {
          "output_type": "stream",
          "name": "stdout",
          "text": [
            "1/1 [==============================] - 0s 31ms/step\n",
            "indvul\n"
          ]
        }
      ]
    },
    {
      "cell_type": "markdown",
      "source": [
        "# **MODEL TUNING (WITH DROPOUT, BATCH NORMAlIATION & EARLY STOPPING)**"
      ],
      "metadata": {
        "id": "982_g2L5_b0A"
      }
    },
    {
      "cell_type": "code",
      "source": [
        "from tensorflow.keras.layers import BatchNormalization, Dropout"
      ],
      "metadata": {
        "id": "ULkKfGyV_rj5"
      },
      "execution_count": null,
      "outputs": []
    },
    {
      "cell_type": "code",
      "source": [
        "\n",
        "# Initializing the seq model\n",
        "model = Sequential()\n",
        "\n",
        "# Adding conv layer with input\n",
        "model.add(Convolution2D(12,(3,3),activation='relu',input_shape=(120, 120, 3)))\n",
        "\n",
        "# Normalizing the conv layer output\n",
        "model.add(BatchNormalization())\n",
        "\n",
        "# Selecting the max values\n",
        "model.add(MaxPooling2D(pool_size=(2,2)))\n",
        "\n",
        "# Dropping the unwanted 20% of data\n",
        "model.add(Dropout(0.2))\n",
        "model.add(Convolution2D(24,(3,3),activation='relu'))\n",
        "model.add(BatchNormalization())\n",
        "model.add(MaxPooling2D(pool_size=(2,2)))\n",
        "model.add(Dropout(0.2))\n",
        "model.add(Convolution2D(36,(3,3),activation='relu'))\n",
        "model.add(BatchNormalization())\n",
        "model.add(MaxPooling2D(pool_size=(2,2)))\n",
        "model.add(Dropout(0.2))\n",
        "model.add(Flatten())\n",
        "\n",
        "# Hiddern layers\n",
        "model.add(Dense(62,activation='relu'))\n",
        "model.add(BatchNormalization())\n",
        "model.add(Dropout(0.1))\n",
        "model.add(Dense(32,activation='relu'))\n",
        "model.add(Dense(22,activation='relu'))\n",
        "\n",
        "# Output layer\n",
        "model.add(Dense(16,activation='softmax'))"
      ],
      "metadata": {
        "id": "x7zdGtRb_tre"
      },
      "execution_count": null,
      "outputs": []
    },
    {
      "cell_type": "code",
      "source": [
        "model.compile(optimizer='adam',loss='categorical_crossentropy',metrics=['accuracy'])"
      ],
      "metadata": {
        "id": "t1wGPXVG_9F-"
      },
      "execution_count": null,
      "outputs": []
    },
    {
      "cell_type": "code",
      "source": [
        "from tensorflow.keras.callbacks import EarlyStopping\n",
        "early_stop = EarlyStopping(monitor='accuracy',patience=8)"
      ],
      "metadata": {
        "id": "mP-oW9SAAB52"
      },
      "execution_count": null,
      "outputs": []
    },
    {
      "cell_type": "code",
      "source": [
        "model.fit(train,batch_size=8,validation_data=test,epochs=35,callbacks=early_stop)"
      ],
      "metadata": {
        "colab": {
          "base_uri": "https://localhost:8080/"
        },
        "id": "ZJwV5P-0AD6y",
        "outputId": "23597461-4c15-434a-9f73-a10575c56a67"
      },
      "execution_count": null,
      "outputs": [
        {
          "output_type": "stream",
          "name": "stdout",
          "text": [
            "Epoch 1/35\n",
            "19/19 [==============================] - 95s 5s/step - loss: 2.8289 - accuracy: 0.1267 - val_loss: 2.8325 - val_accuracy: 0.0637\n",
            "Epoch 2/35\n",
            "19/19 [==============================] - 90s 5s/step - loss: 2.5452 - accuracy: 0.2000 - val_loss: 2.9616 - val_accuracy: 0.0637\n",
            "Epoch 3/35\n",
            "19/19 [==============================] - 88s 5s/step - loss: 2.4108 - accuracy: 0.2667 - val_loss: 3.1030 - val_accuracy: 0.0637\n",
            "Epoch 4/35\n",
            "19/19 [==============================] - 120s 7s/step - loss: 2.2925 - accuracy: 0.2600 - val_loss: 3.1912 - val_accuracy: 0.0573\n",
            "Epoch 5/35\n",
            "19/19 [==============================] - 89s 5s/step - loss: 2.2323 - accuracy: 0.2600 - val_loss: 3.2634 - val_accuracy: 0.0637\n",
            "Epoch 6/35\n",
            "19/19 [==============================] - 88s 5s/step - loss: 2.1486 - accuracy: 0.3067 - val_loss: 3.7168 - val_accuracy: 0.0573\n",
            "Epoch 7/35\n",
            "19/19 [==============================] - 88s 5s/step - loss: 2.1322 - accuracy: 0.3533 - val_loss: 4.3949 - val_accuracy: 0.0573\n",
            "Epoch 8/35\n",
            "19/19 [==============================] - 120s 7s/step - loss: 2.0494 - accuracy: 0.3733 - val_loss: 4.4882 - val_accuracy: 0.0573\n",
            "Epoch 9/35\n",
            "19/19 [==============================] - 87s 5s/step - loss: 1.9452 - accuracy: 0.4200 - val_loss: 4.3869 - val_accuracy: 0.0573\n",
            "Epoch 10/35\n",
            "19/19 [==============================] - 88s 5s/step - loss: 1.7828 - accuracy: 0.4667 - val_loss: 4.2728 - val_accuracy: 0.0573\n",
            "Epoch 11/35\n",
            "19/19 [==============================] - 120s 7s/step - loss: 1.7190 - accuracy: 0.4667 - val_loss: 4.3859 - val_accuracy: 0.0573\n",
            "Epoch 12/35\n",
            "19/19 [==============================] - 88s 5s/step - loss: 1.6631 - accuracy: 0.5067 - val_loss: 4.3263 - val_accuracy: 0.0573\n",
            "Epoch 13/35\n",
            "19/19 [==============================] - 89s 5s/step - loss: 1.5822 - accuracy: 0.5467 - val_loss: 4.0880 - val_accuracy: 0.0892\n",
            "Epoch 14/35\n",
            "19/19 [==============================] - 86s 5s/step - loss: 1.4949 - accuracy: 0.5733 - val_loss: 4.4193 - val_accuracy: 0.0573\n",
            "Epoch 15/35\n",
            "19/19 [==============================] - 86s 5s/step - loss: 1.4833 - accuracy: 0.5467 - val_loss: 4.0385 - val_accuracy: 0.0828\n",
            "Epoch 16/35\n",
            "19/19 [==============================] - 88s 5s/step - loss: 1.3656 - accuracy: 0.5867 - val_loss: 4.8697 - val_accuracy: 0.0573\n",
            "Epoch 17/35\n",
            "19/19 [==============================] - 87s 5s/step - loss: 1.3595 - accuracy: 0.5533 - val_loss: 4.3371 - val_accuracy: 0.0573\n",
            "Epoch 18/35\n",
            "19/19 [==============================] - 87s 5s/step - loss: 1.1790 - accuracy: 0.6200 - val_loss: 3.5630 - val_accuracy: 0.0828\n",
            "Epoch 19/35\n",
            "19/19 [==============================] - 88s 5s/step - loss: 1.3685 - accuracy: 0.5733 - val_loss: 3.6937 - val_accuracy: 0.0637\n",
            "Epoch 20/35\n",
            "19/19 [==============================] - 88s 5s/step - loss: 1.3026 - accuracy: 0.6133 - val_loss: 3.9587 - val_accuracy: 0.0828\n",
            "Epoch 21/35\n",
            "19/19 [==============================] - 89s 5s/step - loss: 1.1191 - accuracy: 0.7267 - val_loss: 5.0541 - val_accuracy: 0.1083\n",
            "Epoch 22/35\n",
            "19/19 [==============================] - 87s 5s/step - loss: 1.0128 - accuracy: 0.7133 - val_loss: 4.6362 - val_accuracy: 0.1338\n",
            "Epoch 23/35\n",
            "19/19 [==============================] - 87s 5s/step - loss: 0.9111 - accuracy: 0.7200 - val_loss: 4.7326 - val_accuracy: 0.1210\n",
            "Epoch 24/35\n",
            "19/19 [==============================] - 119s 6s/step - loss: 0.9016 - accuracy: 0.7067 - val_loss: 3.7414 - val_accuracy: 0.1529\n",
            "Epoch 25/35\n",
            "19/19 [==============================] - 86s 5s/step - loss: 0.8946 - accuracy: 0.7333 - val_loss: 3.7287 - val_accuracy: 0.1019\n",
            "Epoch 26/35\n",
            "19/19 [==============================] - 88s 5s/step - loss: 0.9957 - accuracy: 0.6800 - val_loss: 3.1867 - val_accuracy: 0.1210\n",
            "Epoch 27/35\n",
            "19/19 [==============================] - 86s 5s/step - loss: 0.8883 - accuracy: 0.7200 - val_loss: 3.3084 - val_accuracy: 0.1274\n",
            "Epoch 28/35\n",
            "19/19 [==============================] - 87s 5s/step - loss: 0.8410 - accuracy: 0.7800 - val_loss: 3.1624 - val_accuracy: 0.1465\n",
            "Epoch 29/35\n",
            "19/19 [==============================] - 88s 5s/step - loss: 0.7747 - accuracy: 0.8000 - val_loss: 3.0943 - val_accuracy: 0.1592\n",
            "Epoch 30/35\n",
            "19/19 [==============================] - 88s 5s/step - loss: 0.7737 - accuracy: 0.7933 - val_loss: 2.8062 - val_accuracy: 0.2293\n",
            "Epoch 31/35\n",
            "19/19 [==============================] - 87s 5s/step - loss: 0.7290 - accuracy: 0.7467 - val_loss: 2.8713 - val_accuracy: 0.2293\n",
            "Epoch 32/35\n",
            "19/19 [==============================] - 119s 7s/step - loss: 0.8254 - accuracy: 0.7867 - val_loss: 3.4561 - val_accuracy: 0.1529\n",
            "Epoch 33/35\n",
            "19/19 [==============================] - 86s 5s/step - loss: 0.7652 - accuracy: 0.7800 - val_loss: 3.2146 - val_accuracy: 0.1720\n",
            "Epoch 34/35\n",
            "19/19 [==============================] - 85s 5s/step - loss: 0.6633 - accuracy: 0.7733 - val_loss: 3.0315 - val_accuracy: 0.2484\n",
            "Epoch 35/35\n",
            "19/19 [==============================] - 86s 5s/step - loss: 0.8406 - accuracy: 0.7467 - val_loss: 5.5760 - val_accuracy: 0.1783\n"
          ]
        },
        {
          "output_type": "execute_result",
          "data": {
            "text/plain": [
              "<keras.callbacks.History at 0x7fb3d4ecb010>"
            ]
          },
          "metadata": {},
          "execution_count": 22
        }
      ]
    },
    {
      "cell_type": "markdown",
      "source": [
        "# TRANSFER **LEARNING**"
      ],
      "metadata": {
        "id": "B3iQdIql0WOO"
      }
    },
    {
      "cell_type": "code",
      "source": [
        "from tensorflow.keras.layers import Dense,Flatten,Input\n",
        "from tensorflow.keras.models import Model\n",
        "from tensorflow.keras.preprocessing import image\n",
        "from tensorflow.keras.preprocessing.image import ImageDataGenerator, load_img\n",
        "import numpy as np"
      ],
      "metadata": {
        "id": "BRxkWEKK0acV"
      },
      "execution_count": 1,
      "outputs": []
    },
    {
      "cell_type": "code",
      "source": [
        "train_gen = ImageDataGenerator(rescale=1./255, shear_range=0.2, zoom_range=0.2, horizontal_flip=True)\n",
        "test_gen = ImageDataGenerator(rescale=1./255) "
      ],
      "metadata": {
        "id": "k9VUexwU04vQ"
      },
      "execution_count": 2,
      "outputs": []
    },
    {
      "cell_type": "code",
      "source": [
        "train = train_gen.flow_from_directory('/content/drive/MyDrive/Train_Data',target_size=(224,224),batch_size=22,class_mode='categorical')\n",
        "test = test_gen.flow_from_directory('/content/drive/MyDrive/Test_Data',target_size=(224,224),batch_size=22,class_mode='categorical')"
      ],
      "metadata": {
        "colab": {
          "base_uri": "https://localhost:8080/"
        },
        "id": "IUkOLJTD1Lye",
        "outputId": "697f7e6e-e19d-4da1-a264-70493075e2d2"
      },
      "execution_count": 3,
      "outputs": [
        {
          "output_type": "stream",
          "name": "stdout",
          "text": [
            "Found 150 images belonging to 16 classes.\n",
            "Found 157 images belonging to 16 classes.\n"
          ]
        }
      ]
    },
    {
      "cell_type": "code",
      "source": [
        "from tensorflow.keras.applications.vgg16 import VGG16, preprocess_input"
      ],
      "metadata": {
        "id": "v4DcTaP41oKv"
      },
      "execution_count": 4,
      "outputs": []
    },
    {
      "cell_type": "code",
      "source": [
        "vgg = VGG16(include_top=False,weights='imagenet',input_shape=(224,224,3))"
      ],
      "metadata": {
        "colab": {
          "base_uri": "https://localhost:8080/"
        },
        "id": "nHCyS_qy1qed",
        "outputId": "faa916bf-719c-4799-a677-327ea9174409"
      },
      "execution_count": 5,
      "outputs": [
        {
          "output_type": "stream",
          "name": "stdout",
          "text": [
            "Downloading data from https://storage.googleapis.com/tensorflow/keras-applications/vgg16/vgg16_weights_tf_dim_ordering_tf_kernels_notop.h5\n",
            "58889256/58889256 [==============================] - 1s 0us/step\n"
          ]
        }
      ]
    },
    {
      "cell_type": "code",
      "source": [
        "for layer in vgg.layers:\n",
        "  layer.trainable=False"
      ],
      "metadata": {
        "id": "gqOyfjGh1rcA"
      },
      "execution_count": 6,
      "outputs": []
    },
    {
      "cell_type": "code",
      "source": [
        "x = Flatten()(vgg.output)"
      ],
      "metadata": {
        "id": "lfuO5g371zQ1"
      },
      "execution_count": 7,
      "outputs": []
    },
    {
      "cell_type": "code",
      "source": [
        "prediction = Dense(16,activation='softmax')(x)"
      ],
      "metadata": {
        "id": "OjWiU2wS10bO"
      },
      "execution_count": 8,
      "outputs": []
    },
    {
      "cell_type": "code",
      "source": [
        "model = Model(inputs=vgg.input,outputs=prediction)"
      ],
      "metadata": {
        "id": "4k6MhVhj15Q-"
      },
      "execution_count": 9,
      "outputs": []
    },
    {
      "cell_type": "code",
      "source": [
        "model.summary()"
      ],
      "metadata": {
        "colab": {
          "base_uri": "https://localhost:8080/"
        },
        "id": "n-tMNR0119V1",
        "outputId": "1373fa85-149a-4e36-990a-f1174936bc11"
      },
      "execution_count": 10,
      "outputs": [
        {
          "output_type": "stream",
          "name": "stdout",
          "text": [
            "Model: \"model\"\n",
            "_________________________________________________________________\n",
            " Layer (type)                Output Shape              Param #   \n",
            "=================================================================\n",
            " input_1 (InputLayer)        [(None, 224, 224, 3)]     0         \n",
            "                                                                 \n",
            " block1_conv1 (Conv2D)       (None, 224, 224, 64)      1792      \n",
            "                                                                 \n",
            " block1_conv2 (Conv2D)       (None, 224, 224, 64)      36928     \n",
            "                                                                 \n",
            " block1_pool (MaxPooling2D)  (None, 112, 112, 64)      0         \n",
            "                                                                 \n",
            " block2_conv1 (Conv2D)       (None, 112, 112, 128)     73856     \n",
            "                                                                 \n",
            " block2_conv2 (Conv2D)       (None, 112, 112, 128)     147584    \n",
            "                                                                 \n",
            " block2_pool (MaxPooling2D)  (None, 56, 56, 128)       0         \n",
            "                                                                 \n",
            " block3_conv1 (Conv2D)       (None, 56, 56, 256)       295168    \n",
            "                                                                 \n",
            " block3_conv2 (Conv2D)       (None, 56, 56, 256)       590080    \n",
            "                                                                 \n",
            " block3_conv3 (Conv2D)       (None, 56, 56, 256)       590080    \n",
            "                                                                 \n",
            " block3_pool (MaxPooling2D)  (None, 28, 28, 256)       0         \n",
            "                                                                 \n",
            " block4_conv1 (Conv2D)       (None, 28, 28, 512)       1180160   \n",
            "                                                                 \n",
            " block4_conv2 (Conv2D)       (None, 28, 28, 512)       2359808   \n",
            "                                                                 \n",
            " block4_conv3 (Conv2D)       (None, 28, 28, 512)       2359808   \n",
            "                                                                 \n",
            " block4_pool (MaxPooling2D)  (None, 14, 14, 512)       0         \n",
            "                                                                 \n",
            " block5_conv1 (Conv2D)       (None, 14, 14, 512)       2359808   \n",
            "                                                                 \n",
            " block5_conv2 (Conv2D)       (None, 14, 14, 512)       2359808   \n",
            "                                                                 \n",
            " block5_conv3 (Conv2D)       (None, 14, 14, 512)       2359808   \n",
            "                                                                 \n",
            " block5_pool (MaxPooling2D)  (None, 7, 7, 512)         0         \n",
            "                                                                 \n",
            " flatten (Flatten)           (None, 25088)             0         \n",
            "                                                                 \n",
            " dense (Dense)               (None, 16)                401424    \n",
            "                                                                 \n",
            "=================================================================\n",
            "Total params: 15,116,112\n",
            "Trainable params: 401,424\n",
            "Non-trainable params: 14,714,688\n",
            "_________________________________________________________________\n"
          ]
        }
      ]
    },
    {
      "cell_type": "code",
      "source": [
        "model.compile(loss='categorical_crossentropy',optimizer='adam',metrics=['accuracy'])"
      ],
      "metadata": {
        "id": "Dn94uA3R1-_N"
      },
      "execution_count": 11,
      "outputs": []
    },
    {
      "cell_type": "code",
      "source": [
        "model.fit_generator(train,validation_data=test,epochs=18,steps_per_epoch=len(train), validation_steps=len(test))"
      ],
      "metadata": {
        "colab": {
          "base_uri": "https://localhost:8080/"
        },
        "id": "7GmA2xzY2BJU",
        "outputId": "a9635b5e-ff9a-4387-8fa0-b26cf3ce03b6"
      },
      "execution_count": 13,
      "outputs": [
        {
          "output_type": "stream",
          "name": "stderr",
          "text": [
            "<ipython-input-13-40a02b20e6ea>:1: UserWarning: `Model.fit_generator` is deprecated and will be removed in a future version. Please use `Model.fit`, which supports generators.\n",
            "  model.fit_generator(train,validation_data=test,epochs=18,steps_per_epoch=len(train), validation_steps=len(test))\n"
          ]
        },
        {
          "output_type": "stream",
          "name": "stdout",
          "text": [
            "Epoch 1/18\n",
            "7/7 [==============================] - 131s 21s/step - loss: 1.3961 - accuracy: 0.5867 - val_loss: 2.7717 - val_accuracy: 0.2484\n",
            "Epoch 2/18\n",
            "7/7 [==============================] - 85s 13s/step - loss: 0.8079 - accuracy: 0.7867 - val_loss: 2.7843 - val_accuracy: 0.3949\n",
            "Epoch 3/18\n",
            "7/7 [==============================] - 85s 14s/step - loss: 0.4430 - accuracy: 0.8600 - val_loss: 2.6775 - val_accuracy: 0.3503\n",
            "7/7 [==============================] - 86s 13s/step - loss: 0.3096 - accuracy: 0.9267 - val_loss: 2.7562 - val_accuracy: 0.3312\n",
            "Epoch 5/18\n",
            "7/7 [==============================] - 119s 19s/step - loss: 0.2105 - accuracy: 0.9467 - val_loss: 2.7489 - val_accuracy: 0.3694\n",
            "Epoch 6/18\n",
            "7/7 [==============================] - 88s 14s/step - loss: 0.1490 - accuracy: 0.9800 - val_loss: 2.8769 - val_accuracy: 0.3885\n",
            "Epoch 7/18\n",
            "7/7 [==============================] - 84s 13s/step - loss: 0.1168 - accuracy: 0.9800 - val_loss: 2.8992 - val_accuracy: 0.3758\n",
            "Epoch 8/18\n",
            "7/7 [==============================] - 85s 13s/step - loss: 0.1036 - accuracy: 0.9733 - val_loss: 2.8055 - val_accuracy: 0.3694\n",
            "Epoch 9/18\n",
            "7/7 [==============================] - 119s 19s/step - loss: 0.0934 - accuracy: 0.9733 - val_loss: 2.8084 - val_accuracy: 0.4013\n",
            "Epoch 10/18\n",
            "7/7 [==============================] - 119s 19s/step - loss: 0.0599 - accuracy: 0.9933 - val_loss: 2.9827 - val_accuracy: 0.3822\n",
            "Epoch 11/18\n",
            "7/7 [==============================] - 85s 13s/step - loss: 0.0380 - accuracy: 1.0000 - val_loss: 2.9277 - val_accuracy: 0.3949\n",
            "Epoch 12/18\n",
            "7/7 [==============================] - 86s 13s/step - loss: 0.0393 - accuracy: 1.0000 - val_loss: 2.8206 - val_accuracy: 0.4140\n",
            "Epoch 13/18\n",
            "7/7 [==============================] - 85s 13s/step - loss: 0.0384 - accuracy: 1.0000 - val_loss: 2.8359 - val_accuracy: 0.4013\n",
            "Epoch 14/18\n",
            "7/7 [==============================] - 119s 19s/step - loss: 0.0342 - accuracy: 1.0000 - val_loss: 2.8454 - val_accuracy: 0.3949\n",
            "Epoch 15/18\n",
            "7/7 [==============================] - 119s 19s/step - loss: 0.0338 - accuracy: 1.0000 - val_loss: 2.8852 - val_accuracy: 0.3885\n",
            "Epoch 16/18\n",
            "7/7 [==============================] - 119s 19s/step - loss: 0.0306 - accuracy: 1.0000 - val_loss: 2.8855 - val_accuracy: 0.4076\n",
            "Epoch 17/18\n",
            "7/7 [==============================] - 119s 19s/step - loss: 0.0278 - accuracy: 1.0000 - val_loss: 2.8747 - val_accuracy: 0.4013\n",
            "Epoch 18/18\n",
            "7/7 [==============================] - 92s 14s/step - loss: 0.0322 - accuracy: 0.9933 - val_loss: 2.9080 - val_accuracy: 0.3758\n"
          ]
        },
        {
          "output_type": "execute_result",
          "data": {
            "text/plain": [
              "<keras.callbacks.History at 0x7f56d57d3e80>"
            ]
          },
          "metadata": {},
          "execution_count": 13
        }
      ]
    },
    {
      "cell_type": "code",
      "source": [
        "from tensorflow.keras.applications.resnet50 import ResNet50"
      ],
      "metadata": {
        "id": "vIUM2C0jCOIo"
      },
      "execution_count": 23,
      "outputs": []
    },
    {
      "cell_type": "code",
      "source": [
        "resnet = ResNet50(include_top=False,input_shape=(224,224,3))"
      ],
      "metadata": {
        "colab": {
          "base_uri": "https://localhost:8080/"
        },
        "id": "XywYp8SBCRQV",
        "outputId": "aac05515-c35e-4c84-ed2d-89d681129b57"
      },
      "execution_count": 24,
      "outputs": [
        {
          "output_type": "stream",
          "name": "stdout",
          "text": [
            "Downloading data from https://storage.googleapis.com/tensorflow/keras-applications/resnet/resnet50_weights_tf_dim_ordering_tf_kernels_notop.h5\n",
            "94765736/94765736 [==============================] - 1s 0us/step\n"
          ]
        }
      ]
    },
    {
      "cell_type": "code",
      "source": [
        "for layer in resnet.layers:\n",
        "  layer.trainable=False"
      ],
      "metadata": {
        "id": "mAvW9nnbCTws"
      },
      "execution_count": null,
      "outputs": []
    },
    {
      "cell_type": "code",
      "source": [
        "x = Flatten()(resnet.output)\n",
        "out = Dense(16, activation='softmax')(x)\n",
        "res_model = Model(inputs=resnet.input,outputs=out)"
      ],
      "metadata": {
        "id": "LemYk1xjCUk5"
      },
      "execution_count": 28,
      "outputs": []
    },
    {
      "cell_type": "code",
      "source": [
        "res_model.compile(loss='categorical_crossentropy',optimizer='adam',metrics=['accuracy'])\n",
        "res_model.fit(train,epochs=5,validation_data=test,steps_per_epoch=len(train),validation_steps=len(test))"
      ],
      "metadata": {
        "colab": {
          "base_uri": "https://localhost:8080/"
        },
        "id": "itvcNfw-CfHu",
        "outputId": "367e704d-45bb-4413-b586-b54fbde1a28c"
      },
      "execution_count": 29,
      "outputs": [
        {
          "output_type": "stream",
          "name": "stdout",
          "text": [
            "Epoch 1/5\n",
            "7/7 [==============================] - 165s 17s/step - loss: 14.1664 - accuracy: 0.2933 - val_loss: 24.0851 - val_accuracy: 0.0637\n",
            "Epoch 2/5\n",
            "7/7 [==============================] - 102s 16s/step - loss: 8.6219 - accuracy: 0.6000 - val_loss: 36.2722 - val_accuracy: 0.1210\n",
            "Epoch 3/5\n",
            "7/7 [==============================] - 126s 20s/step - loss: 7.2646 - accuracy: 0.5333 - val_loss: 234.5793 - val_accuracy: 0.1274\n",
            "Epoch 4/5\n",
            "7/7 [==============================] - 105s 16s/step - loss: 5.7711 - accuracy: 0.6267 - val_loss: 42945.8711 - val_accuracy: 0.1210\n",
            "Epoch 5/5\n",
            "7/7 [==============================] - 102s 16s/step - loss: 7.0677 - accuracy: 0.7333 - val_loss: 114268.5312 - val_accuracy: 0.1274\n"
          ]
        },
        {
          "output_type": "execute_result",
          "data": {
            "text/plain": [
              "<keras.callbacks.History at 0x7f55d8d08790>"
            ]
          },
          "metadata": {},
          "execution_count": 29
        }
      ]
    }
  ]
}